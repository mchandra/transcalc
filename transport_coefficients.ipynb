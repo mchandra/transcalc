{
 "cells": [
  {
   "cell_type": "code",
   "execution_count": 15,
   "metadata": {
    "collapsed": false
   },
   "outputs": [],
   "source": [
    "from __future__ import division\n",
    "import numpy as np\n",
    "import matplotlib.pyplot as plt\n",
    "from scipy.integrate import quad, nquad\n",
    "from scipy.special import kn, k0\n",
    "from scipy.interpolate import splev, splrep\n",
    "\n",
    "%matplotlib inline\n",
    "\n",
    "# Set plot parameters to make beautiful plots\n",
    "plt.rcParams['figure.figsize']  = 12, 7.5\n",
    "plt.rcParams['lines.linewidth'] = 1.5\n",
    "plt.rcParams['font.family']     = 'serif'\n",
    "plt.rcParams['font.weight']     = 'bold'\n",
    "plt.rcParams['font.size']       = 20  \n",
    "plt.rcParams['font.sans-serif'] = 'serif'\n",
    "plt.rcParams['text.usetex']     = True\n",
    "plt.rcParams['axes.linewidth']  = 1.5\n",
    "plt.rcParams['axes.titlesize']  = 'medium'\n",
    "plt.rcParams['axes.labelsize']  = 'medium'\n",
    "\n",
    "plt.rcParams['xtick.major.size'] = 8     \n",
    "plt.rcParams['xtick.minor.size'] = 4     \n",
    "plt.rcParams['xtick.major.pad']  = 8     \n",
    "plt.rcParams['xtick.minor.pad']  = 8     \n",
    "plt.rcParams['xtick.color']      = 'k'     \n",
    "plt.rcParams['xtick.labelsize']  = 'medium'\n",
    "plt.rcParams['xtick.direction']  = 'in'    \n",
    "\n",
    "plt.rcParams['ytick.major.size'] = 8     \n",
    "plt.rcParams['ytick.minor.size'] = 4     \n",
    "plt.rcParams['ytick.major.pad']  = 8     \n",
    "plt.rcParams['ytick.minor.pad']  = 8     \n",
    "plt.rcParams['ytick.color']      = 'k'     \n",
    "plt.rcParams['ytick.labelsize']  = 'medium'\n",
    "plt.rcParams['ytick.direction']  = 'in'    "
   ]
  },
  {
   "cell_type": "code",
   "execution_count": 16,
   "metadata": {
    "collapsed": true
   },
   "outputs": [],
   "source": [
    "# Anderson-Witting collision operator\n",
    "# tau: relaxation time scale\n",
    "tau = 0.1\n",
    "\n",
    "N  = 16\n",
    "Nt = 50\n",
    "dx = 1./N\n",
    "i  = np.arange(0, N, 1)\n",
    "xGrid  = (i + 0.5)*dx\n",
    "tFinal  = 5.\n",
    "t  = np.linspace(0, tFinal, Nt)\n",
    "\n",
    "amplitude  = 1e-3\n",
    "k          = 2*np.pi\n",
    "rho0        = 1.\n",
    "pressure0   = 2.\n",
    "uUp10       = 0.\n",
    "Gamma       = 4/3\n",
    "\n",
    "def rhoInit(x):\n",
    "    return rho0 + 0.*amplitude*np.cos(k*x)\n",
    "\n",
    "def pressureInit(x):\n",
    "    return pressure0 + 0.*amplitude*np.cos(k*x)\n",
    "\n",
    "def thetaInit(x):\n",
    "    return pressureInit(x)/rhoInit(x)\n",
    "\n",
    "def uUp1Init(x):\n",
    "    return uUp10 + amplitude*np.cos(k*x)"
   ]
  },
  {
   "cell_type": "code",
   "execution_count": 17,
   "metadata": {
    "collapsed": false
   },
   "outputs": [],
   "source": [
    "def f0(pUp1, pPerp, x):    \n",
    "    rho   = rhoInit(x)\n",
    "    theta = thetaInit(x)\n",
    "    uUp1  = uUp1Init(x)\n",
    "    \n",
    "    alpha = rho/(4.*np.pi*theta*kn(2, 1/theta))\n",
    "    a0    = 1./theta\n",
    "    \n",
    "    uUp0 = np.sqrt(1. + uUp1**2.)\n",
    "    uDown0 = -uUp0\n",
    "    uDown1 = uUp1\n",
    "    \n",
    "    pUp0 = np.sqrt(1. + pUp1**2. + pPerp**2.) \n",
    "    \n",
    "    return alpha*np.exp(a0*(pUp0*uDown0 + pUp1*uDown1) )\n",
    "\n",
    "def f(p1, pPerp, x):\n",
    "    tck = splrep(xGrid, f0(p1, pPerp, xGrid))\n",
    "    \n",
    "    df0_dx1 = splev(x, tck, der=1)\n",
    "    \n",
    "    p0 = np.sqrt(1. + p1**2. + pPerp**2.) \n",
    "\n",
    "    # Solution for Marle\n",
    "    #return f0(p1, pPerp, x) - (tau * p1 * df0_dx1)\n",
    "\n",
    "    # Solution for Anderson-Witting\n",
    "    return f0(p1, pPerp, x) - (tau * p1/p0 * df0_dx1)\n",
    "\n",
    "def integrand(p1, pPerp, x):\n",
    "    \n",
    "    # T^{01}: Heat flux\n",
    "    #return p1 * (2.*np.pi*pPerp*f(p1, pPerp, x))\n",
    "    \n",
    "    # N^{1}: Matter flux\n",
    "    #p0 = np.sqrt(1. + p1**2. + pPerp**2.)\n",
    "    #return p1/p0 * (2.*np.pi*pPerp*f(p1, pPerp, x))\n",
    "    \n",
    "    # (T^{11} + T^{22} + T^{33})\n",
    "    return (p1**2. + pPerp**2.) * (2.*np.pi*pPerp*f(p1, pPerp, x))\n",
    "\n",
    "def marleKappa(tau, rho, theta):\n",
    "    \n",
    "    exp_of_alpha = rho/(4.*np.pi*theta*kn(2, 1/theta))\n",
    "    \n",
    "    return (tau*4.*np.pi*exp_of_alpha\n",
    "            *(kn(4, 1/theta) - theta*kn(3, 1/theta) - (kn(3, 1/theta)**2./kn(2, 1/theta))) \n",
    "           )\n",
    "\n",
    "def andersonWittingKappa(tau, rho, theta):\n",
    "    \n",
    "    exp_of_alpha = rho/(4.*np.pi*theta*kn(2, 1/theta))\n",
    "    gamma = 1/theta\n",
    "    h = kn(3, gamma)/kn(2, gamma)\n",
    "    ki1 = quad(k0, gamma, np.inf)[0]\n",
    "        \n",
    "    return (tau*gamma**2./3.*4.*np.pi*exp_of_alpha*h\n",
    "            * (h*(kn(2, gamma)/gamma + ki1 - kn(1, gamma)) - 3*kn(2, gamma)/gamma**2.)\n",
    "           ) \n",
    "    \n",
    "    #mu0 = (rho0 + pressure0/(Gamma-1))\n",
    "    #A0 = 4*np.pi*exp_of_alpha*kn(1, gamma)/gamma\n",
    "    #T1Bold = (1/3)*(4*rho0 - 4*np.pi*exp_of_alpha*(kn(1, gamma) - ki1) )\n",
    "    #T2Bold = (1/3)*(rho0 - 4*np.pi*exp_of_alpha*(kn(1, gamma) - ki1) )\n",
    "    #S1Bold = 2*mu0 - A0\n",
    "    #S2Bold = (1/3)*(mu0 - A0)\n",
    "    #S2     = 4*np.pi*exp_of_alpha*kn(3, gamma)/gamma**2.\n",
    "    \n",
    "    #return (tau*(mu0 + pressure0)/rho0*gamma**2. \n",
    "    #        * (T2Bold*S2/pressure0 - S2Bold)\n",
    "    #       )\n",
    "\n",
    "def marleZeta(tau, rho, theta):\n",
    "    exp_of_alpha = rho/(4.*np.pi*theta*kn(2, 1/theta))\n",
    "    gamma = 1/theta\n",
    "    h = kn(3, gamma)/kn(2, gamma)\n",
    "    hPrime = h**2. - (5/gamma)*h - 1\n",
    "    Gamma = gamma**2.*hPrime/((gamma**2.*hPrime) + 1.)\n",
    "    \n",
    "    term1 =  1./((gamma**2.*hPrime)+1) \\\n",
    "            *(  kn(5, gamma)*(Gamma-1) \\\n",
    "              - kn(4, gamma)*(12*Gamma-13)/gamma \\\n",
    "              + kn(3, gamma)*(9*Gamma-10)/gamma**2. \\\n",
    "             )\n",
    "        \n",
    "    term2 = -(gamma*hPrime + h)/((gamma**2.*hPrime) + 1) \\\n",
    "            *(  kn(4, gamma)*(Gamma-1) \\\n",
    "              - kn(3, gamma)*(9*Gamma-10)/gamma \\\n",
    "             )\n",
    "        \n",
    "    term3 = 1/gamma \\\n",
    "            *(  kn(4, gamma)*(Gamma-1) \\\n",
    "              - kn(3, gamma)*(11*Gamma-38./3)/gamma \\\n",
    "             )\n",
    "        \n",
    "    return (tau*4*np.pi*exp_of_alpha*(term1 + term2 + term3))"
   ]
  },
  {
   "cell_type": "code",
   "execution_count": 18,
   "metadata": {
    "collapsed": false
   },
   "outputs": [
    {
     "name": "stdout",
     "output_type": "stream",
     "text": [
      "i =  0\n",
      "i =  1\n",
      "i =  2\n",
      "i =  3\n",
      "i =  4\n",
      "i =  5\n",
      "i =  6\n",
      "i =  7\n",
      "i =  8\n",
      "i =  9\n",
      "i =  10\n",
      "i =  11\n",
      "i =  12\n",
      "i =  13\n",
      "i =  14\n",
      "i =  15\n"
     ]
    }
   ],
   "source": [
    "soln = np.zeros(N)\n",
    "for i in xrange(N):\n",
    "    print \"i = \", i\n",
    "    integral = nquad(integrand, [[-np.inf, np.inf], [0, np.inf]], args=(xGrid[i],))\n",
    "    soln[i]  = integral[0]"
   ]
  },
  {
   "cell_type": "code",
   "execution_count": 19,
   "metadata": {
    "collapsed": false
   },
   "outputs": [
    {
     "name": "stdout",
     "output_type": "stream",
     "text": [
      "0.00021034819054\n",
      "-2.73980202002\n"
     ]
    }
   ],
   "source": [
    "T0_tck = splrep(xGrid, thetaInit(xGrid))\n",
    "dT_dx1 = splev(xGrid, T0_tck, der=1)\n",
    "\n",
    "uUp1_tck = splrep(xGrid, uUp1Init(xGrid))\n",
    "uUp1_dx1 = splev(xGrid, uUp1_tck, der=1)\n",
    "\n",
    "\n",
    "#print marleKappa(tau, np.mean(rhoInit(xGrid)), np.mean(thetaInit(xGrid)))\n",
    "#print andersonWittingKappa(tau, np.mean(rhoInit(xGrid)), np.mean(thetaInit(xGrid)))\n",
    "print marleZeta(tau, np.mean(rhoInit(xGrid)), np.mean(thetaInit(xGrid)))\n",
    "\n",
    "# Marle thermal conductivity\n",
    "#print np.mean(soln/-dT_dx1)\n",
    "\n",
    "# Anderson-Witting thermal conduvitity\n",
    "#print np.mean(soln/dT_dx1/(rhoInit(xGrid) + pressureInit(xGrid)/(5./3 - 1.) + pressureInit(xGrid) )/rhoInit(xGrid))\n",
    "\n",
    "# Marle bulk viscosity\n",
    "traceTmunu  = soln\n",
    "traceT0munu = pressureInit(xGrid)\n",
    "zeta = np.mean((-1/3) * (traceTmunu - traceT0munu)/(-uUp1_dx1))\n",
    "print zeta"
   ]
  },
  {
   "cell_type": "code",
   "execution_count": 20,
   "metadata": {
    "collapsed": false
   },
   "outputs": [
    {
     "data": {
      "image/png": "[encoded data removed]",
      "text/plain": [
       "<matplotlib.figure.Figure at 0x7fd54ceeb410>"
      ]
     },
     "metadata": {},
     "output_type": "display_data"
    }
   ],
   "source": [
    "fig, axes = plt.subplots(1)\n",
    "\n",
    "line1, = axes.plot(xGrid, soln)\n",
    "#line2, = axes.plot(xGrid, rho0*amplitude*np.cos(k*xGrid))"
   ]
  }
 ],
 "metadata": {
  "kernelspec": {
   "display_name": "Python 2",
   "language": "python",
   "name": "python2"
  },
  "language_info": {
   "codemirror_mode": {
    "name": "ipython",
    "version": 2
   },
   "file_extension": ".py",
   "mimetype": "text/x-python",
   "name": "python",
   "nbconvert_exporter": "python",
   "pygments_lexer": "ipython2",
   "version": "2.7.8"
  },
  "name": "transport_coefficients.ipynb"
 },
 "nbformat": 4,
 "nbformat_minor": 0
}
